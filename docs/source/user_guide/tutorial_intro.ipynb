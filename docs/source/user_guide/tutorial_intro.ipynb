{
 "cells": [
  {
   "cell_type": "markdown",
   "metadata": {},
   "source": [
    "# ase-notebook by example"
   ]
  },
  {
   "cell_type": "markdown",
   "metadata": {},
   "source": [
    "The classes of `ase-notebook` are:\n",
    "\n",
    "- :py:class:`~ase_notebook.configuration.ViewConfig`,\n",
    "  which stores the initialisation configuration.\n",
    "- :py:class:`~ase_notebook.viewer.AseView`,\n",
    "  which uses a `ViewConfig` to create a visualisation,\n",
    "  using one of the backends."
   ]
  },
  {
   "cell_type": "code",
   "execution_count": null,
   "metadata": {},
   "outputs": [],
   "source": [
    "from ase_notebook import AseView, ViewConfig, get_example_atoms"
   ]
  },
  {
   "cell_type": "markdown",
   "metadata": {},
   "source": [
    "An `AseView` can be initialised with a `ViewConfig`,\n",
    "or create the `ViewConfig` *via* keyword arguments."
   ]
  },
  {
   "cell_type": "code",
   "execution_count": null,
   "metadata": {},
   "outputs": [],
   "source": [
    "config = ViewConfig()\n",
    "ase_view = AseView(config)"
   ]
  },
  {
   "cell_type": "code",
   "execution_count": null,
   "metadata": {},
   "outputs": [],
   "source": [
    "ase_view = AseView(\n",
    "    rotations=\"45x,45y,45z\",\n",
    "    atom_font_size=16,\n",
    "    axes_length=30,\n",
    "    canvas_size=(400, 400),\n",
    "    zoom=1.2,\n",
    "    show_bonds=True\n",
    ")\n",
    "ase_view.config.uc_dash_pattern=(.6,.4)\n",
    "ase_view.add_miller_plane(\n",
    "    1, 0, 0, color=\"green\")\n",
    "ase_view.config"
   ]
  },
  {
   "cell_type": "markdown",
   "metadata": {},
   "source": [
    "`ase.Atoms` or `pymatgen.Structure`s can be parsed to one of the `AseView` visualisation methods:\n",
    "\n",
    "- :py:meth:`~ase_notebook.viewer.AseView.make_gui`\n",
    "  opens a (blocking) GUI window,\n",
    "  similar to the :py:func:`ase.visualize.view` default.\n",
    "- :py:meth:`~ase_notebook.viewer.AseView.launch_gui_subprocess`\n",
    "  opens the GUI in a subprocess,\n",
    "  allowing multiple windows to be opened at once.\n",
    "- :py:meth:`~ase_notebook.viewer.AseView.make_svg`\n",
    "  creates an :py:class:`svgwrite.drawing.Drawing`,\n",
    "  which will automatically be displayed in the notebook.\n",
    "- :py:meth:`~ase_notebook.viewer.AseView.make_render`\n",
    "  creates a :py:class:`~ase_notebook.backend.threejs.RenderContainer`,\n",
    "  which contains a `pythreejs.Renderer` and `ipywidget` controls,\n",
    "  that will automatically be displayed in the notebook."
   ]
  },
  {
   "cell_type": "code",
   "execution_count": null,
   "metadata": {},
   "outputs": [],
   "source": [
    "atoms = get_example_atoms()\n",
    "atoms"
   ]
  },
  {
   "cell_type": "code",
   "execution_count": null,
   "metadata": {},
   "outputs": [],
   "source": [
    "ase_view.make_svg(atoms, center_in_uc=True)"
   ]
  },
  {
   "cell_type": "code",
   "execution_count": null,
   "metadata": {
    "scrolled": false
   },
   "outputs": [],
   "source": [
    "ase_view.config.canvas_color_background = \"blue\"\n",
    "ase_view.config.canvas_background_opacity = 0.2\n",
    "gui = ase_view.make_render(\n",
    "    atoms, center_in_uc=True)\n",
    "gui"
   ]
  },
  {
   "cell_type": "markdown",
   "metadata": {},
   "source": [
    ".. important::\n",
    "\n",
    "    To use `make_render`, the package must have been installed with the `threejs` extra: `pip install ase-notebook[threejs]`."
   ]
  },
  {
   "cell_type": "markdown",
   "metadata": {},
   "source": [
    ".. note::\n",
    "\n",
    "    The world axes are currently synced to the main scene *via*\n",
    "    the python kernel, so will only move when it is running.\n",
    "    Also double-clicking an atom will display information about it."
   ]
  },
  {
   "cell_type": "markdown",
   "metadata": {},
   "source": [
    "Any component of the above GUI can be accessed and displayed separately,\n",
    "as an additional *view* of the widget."
   ]
  },
  {
   "cell_type": "code",
   "execution_count": null,
   "metadata": {},
   "outputs": [],
   "source": [
    "gui.element_renderer"
   ]
  }
 ],
 "metadata": {
  "hide_input": false,
  "kernelspec": {
   "display_name": "Python 3",
   "language": "python",
   "name": "python3"
  },
  "language_info": {
   "codemirror_mode": {
    "name": "ipython",
    "version": 3
   },
   "file_extension": ".py",
   "mimetype": "text/x-python",
   "name": "python",
   "nbconvert_exporter": "python",
   "pygments_lexer": "ipython3",
   "version": "3.6.7"
  },
  "toc": {
   "base_numbering": 1,
   "nav_menu": {},
   "number_sections": true,
   "sideBar": true,
   "skip_h1_title": false,
   "title_cell": "Table of Contents",
   "title_sidebar": "Contents",
   "toc_cell": false,
   "toc_position": {},
   "toc_section_display": true,
   "toc_window_display": false
  }
 },
 "nbformat": 4,
 "nbformat_minor": 2
}
