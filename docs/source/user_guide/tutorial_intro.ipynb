{
 "cells": [
  {
   "cell_type": "markdown",
   "metadata": {},
   "source": [
    "# ase-notebook by example"
   ]
  },
  {
   "cell_type": "markdown",
   "metadata": {},
   "source": [
    "The classes of `ase-notebook` are:\n",
    "\n",
    "- :py:class:`~ase_notebook.configuration.ViewConfig`,\n",
    "  which validates and stores the initialisation configuration.\n",
    "- :py:class:`~ase_notebook.viewer.AseView`,\n",
    "  which uses a `ViewConfig` to create a visualisation,\n",
    "  using one of the backends."
   ]
  },
  {
   "cell_type": "code",
   "execution_count": null,
   "metadata": {},
   "outputs": [],
   "source": [
    "from ase_notebook import AseView, ViewConfig, get_example_atoms"
   ]
  },
  {
   "cell_type": "markdown",
   "metadata": {},
   "source": [
    "An `AseView` can be initialised with a `ViewConfig`,\n",
    "or create the `ViewConfig` *via* keyword arguments."
   ]
  },
  {
   "cell_type": "code",
   "execution_count": null,
   "metadata": {},
   "outputs": [],
   "source": [
    "config = ViewConfig()\n",
    "ase_view = AseView(config)"
   ]
  },
  {
   "cell_type": "code",
   "execution_count": null,
   "metadata": {},
   "outputs": [],
   "source": [
    "ase_view = AseView(\n",
    "    rotations=\"45x,45y,45z\",\n",
    "    atom_font_size=16,\n",
    "    axes_length=30,\n",
    "    canvas_size=(400, 400),\n",
    "    zoom=1.2,\n",
    "    show_bonds=True\n",
    ")\n",
    "ase_view.config.uc_dash_pattern=(.6,.4)\n",
    "ase_view.add_miller_plane(\n",
    "    1, 0, 0, color=\"green\")\n",
    "ase_view.config"
   ]
  },
  {
   "cell_type": "code",
   "execution_count": null,
   "metadata": {},
   "outputs": [],
   "source": [
    "atoms = get_example_atoms()\n",
    "atoms"
   ]
  },
  {
   "cell_type": "markdown",
   "metadata": {},
   "source": [
    "`ase.Atoms` or `pymatgen.Structure`s can be parsed to one of the `AseView` visualisation methods:\n",
    "\n",
    "- :py:meth:`~ase_notebook.viewer.AseView.make_gui`\n",
    "  opens a (blocking) GUI window,\n",
    "  similar to the :py:func:`ase.visualize.view` default.\n",
    "- :py:meth:`~ase_notebook.viewer.AseView.launch_gui_subprocess`\n",
    "  opens the GUI in a subprocess,\n",
    "  allowing multiple windows to be opened at once.\n",
    "- :py:meth:`~ase_notebook.viewer.AseView.make_svg`\n",
    "  creates an :py:class:`svgwrite.drawing.Drawing`,\n",
    "  which will automatically be displayed in the notebook.\n",
    "- :py:meth:`~ase_notebook.viewer.AseView.make_render`\n",
    "  creates a :py:class:`~ase_notebook.backend.threejs.RenderContainer`,\n",
    "  which contains a [pythreejs](pythreejs.readthedocs.io) `Renderer` and [ipywidget](ipywidgets.readthedocs.io) controls,\n",
    "  that will automatically be displayed in the notebook."
   ]
  },
  {
   "cell_type": "markdown",
   "metadata": {},
   "source": [
    "## threejs (3D)"
   ]
  },
  {
   "cell_type": "code",
   "execution_count": null,
   "metadata": {
    "scrolled": false
   },
   "outputs": [],
   "source": [
    "ase_view.config.canvas_color_background = \"blue\"\n",
    "ase_view.config.canvas_background_opacity = 0.2\n",
    "gui = ase_view.make_render(\n",
    "    atoms, center_in_uc=True)\n",
    "gui"
   ]
  },
  {
   "cell_type": "markdown",
   "metadata": {},
   "source": [
    ".. note::\n",
    "\n",
    "    The world axes are currently synced to the main scene *via*\n",
    "    the python kernel, so will only move when it is running.\n",
    "    Also double-clicking an atom will display information about it."
   ]
  },
  {
   "cell_type": "markdown",
   "metadata": {},
   "source": [
    ".. important::\n",
    "\n",
    "    To use `make_render`, the package must have been installed\n",
    "    *via* Conda or with the `threejs` extra: `pip install ase-notebook[threejs]`."
   ]
  },
  {
   "cell_type": "markdown",
   "metadata": {},
   "source": [
    "Any component of the above GUI can be accessed and displayed separately,\n",
    "as an additional *view* of the widget."
   ]
  },
  {
   "cell_type": "code",
   "execution_count": null,
   "metadata": {},
   "outputs": [],
   "source": [
    "gui.element_renderer"
   ]
  },
  {
   "cell_type": "markdown",
   "metadata": {},
   "source": [
    "To create additional controls,\n",
    "any element of the scene can be linked to an `ipywidget`."
   ]
  },
  {
   "cell_type": "code",
   "execution_count": null,
   "metadata": {},
   "outputs": [],
   "source": [
    "from ipywidgets import FloatSlider, jslink\n",
    "slider = FloatSlider(\n",
    "    min=0.1, max=10\n",
    ")\n",
    "jslink((gui.element_renderer.camera, 'zoom'),\n",
    "       (slider, 'value'))\n",
    "slider"
   ]
  },
  {
   "cell_type": "markdown",
   "metadata": {},
   "source": [
    "If `make_render` is called with `reuse_objects=True`,\n",
    "then a single atom texture is used for all atoms with the same visual properties (color, opacity, ...).\n",
    "This widget, for example, will change the color of all Fe atoms above."
   ]
  },
  {
   "cell_type": "code",
   "execution_count": null,
   "metadata": {},
   "outputs": [],
   "source": [
    "from ipywidgets import ColorPicker, jslink\n",
    "material = gui.atom_arrays[0][\"material_body\"]\n",
    "picker = ColorPicker()\n",
    "jslink((material, 'color'), (picker, 'value'))\n",
    "picker"
   ]
  },
  {
   "cell_type": "markdown",
   "metadata": {},
   "source": [
    "Pythreejs currently can be slow to load,\n",
    "if the scene contains 1000's of elements\n",
    "(see [this issue](https://github.com/jupyter-widgets/pythreejs/issues/154)).\n",
    "To improve this, if `use_atom_arrays=True` then\n",
    "atoms with the same radius and visual properties,\n",
    "will be concatenated into a single element.\n",
    "\n",
    ".. note::\n",
    "\n",
    "    The atom information picker will not work with this option."
   ]
  },
  {
   "cell_type": "code",
   "execution_count": null,
   "metadata": {},
   "outputs": [],
   "source": [
    "ase_view.config.atom_show_label = False\n",
    "ase_view.make_render(\n",
    "    atoms, center_in_uc=True,\n",
    "    repeat_uc=(4,4,4), use_atom_arrays=True,\n",
    "    create_gui=False\n",
    ")"
   ]
  },
  {
   "cell_type": "markdown",
   "metadata": {},
   "source": [
    "## SVG (2D)"
   ]
  },
  {
   "cell_type": "code",
   "execution_count": null,
   "metadata": {},
   "outputs": [],
   "source": [
    "ase_view.config.atom_show_label = True\n",
    "ase_view.config.canvas_background_opacity = 0.0\n",
    "svg = ase_view.make_svg(atoms, center_in_uc=True)\n",
    "svg"
   ]
  },
  {
   "cell_type": "markdown",
   "metadata": {},
   "source": [
    ":py:func:`~ase_notebook.backend.svg.concatenate_svgs`\n",
    "can also be used to create an of multiple scenes."
   ]
  },
  {
   "cell_type": "markdown",
   "metadata": {},
   "source": [
    ".. important::\n",
    "\n",
    "    To use `concatenate_svgs`, the package must have been installed\n",
    "    *via* Conda or with the `svgconcat` extra: `pip install ase-notebook[svgconcat]`."
   ]
  },
  {
   "cell_type": "code",
   "execution_count": null,
   "metadata": {},
   "outputs": [],
   "source": [
    "from ase_notebook import concatenate_svgs\n",
    "\n",
    "svgs = []\n",
    "for rot in [\"45x,45y,45z\", \"0x\", \"90x\"]:\n",
    "    ase_view.config.rotations = rot\n",
    "    svgs.append(\n",
    "        ase_view.make_svg(atoms, center_in_uc=True)\n",
    "    )\n",
    "concatenate_svgs(\n",
    "    svgs, max_columns=2, scale=0.5, label=True\n",
    ")"
   ]
  },
  {
   "cell_type": "markdown",
   "metadata": {},
   "source": [
    "Finally, if you wish to convert the SVG to a PDF: "
   ]
  },
  {
   "cell_type": "code",
   "execution_count": null,
   "metadata": {},
   "outputs": [],
   "source": [
    "from ase_notebook.backend.svg import svg_to_pdf\n",
    "# pdf = svg_to_pdf(svg, \"save_file.pdf\")"
   ]
  }
 ],
 "metadata": {
  "hide_input": false,
  "kernelspec": {
   "display_name": "Python 3",
   "language": "python",
   "name": "python3"
  },
  "language_info": {
   "codemirror_mode": {
    "name": "ipython",
    "version": 3
   },
   "file_extension": ".py",
   "mimetype": "text/x-python",
   "name": "python",
   "nbconvert_exporter": "python",
   "pygments_lexer": "ipython3",
   "version": "3.6.7"
  },
  "toc": {
   "base_numbering": 1,
   "nav_menu": {},
   "number_sections": true,
   "sideBar": true,
   "skip_h1_title": false,
   "title_cell": "Table of Contents",
   "title_sidebar": "Contents",
   "toc_cell": false,
   "toc_position": {},
   "toc_section_display": true,
   "toc_window_display": false
  }
 },
 "nbformat": 4,
 "nbformat_minor": 2
}
