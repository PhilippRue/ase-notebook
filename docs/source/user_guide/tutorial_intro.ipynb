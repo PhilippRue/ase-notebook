{
 "cells": [
  {
   "cell_type": "markdown",
   "metadata": {},
   "source": [
    "# ase-notebook by example"
   ]
  },
  {
   "cell_type": "code",
   "execution_count": null,
   "metadata": {},
   "outputs": [],
   "source": [
    "from ase_notebook import AseView, get_example_atoms"
   ]
  },
  {
   "cell_type": "code",
   "execution_count": null,
   "metadata": {},
   "outputs": [],
   "source": [
    "ase_view = AseView(\n",
    "    rotations=\"45x,45y,45z\",\n",
    "    atom_font_size=16,\n",
    "    axes_length=30,\n",
    "    canvas_size=(400, 400),\n",
    "    zoom=1.2,\n",
    "    show_bonds=True\n",
    ")\n",
    "ase_view.config.uc_dash_pattern=(.6,.4)\n",
    "ase_view.add_miller_plane(\n",
    "    1, 0, 0, color=\"green\")\n",
    "ase_view.config"
   ]
  },
  {
   "cell_type": "code",
   "execution_count": null,
   "metadata": {},
   "outputs": [],
   "source": [
    "atoms = get_example_atoms()\n",
    "atoms"
   ]
  },
  {
   "cell_type": "code",
   "execution_count": null,
   "metadata": {},
   "outputs": [],
   "source": [
    "ase_view.make_svg(atoms, center_in_uc=True)"
   ]
  },
  {
   "cell_type": "code",
   "execution_count": null,
   "metadata": {},
   "outputs": [],
   "source": [
    "ase_view.config.canvas_color_background = \"blue\"\n",
    "ase_view.config.canvas_background_opacity = 0.2\n",
    "render = ase_view.make_render(\n",
    "    atoms, center_in_uc=True)\n",
    "render"
   ]
  }
 ],
 "metadata": {
  "hide_input": false,
  "kernelspec": {
   "display_name": "Python 3",
   "language": "python",
   "name": "python3"
  },
  "language_info": {
   "codemirror_mode": {
    "name": "ipython",
    "version": 3
   },
   "file_extension": ".py",
   "mimetype": "text/x-python",
   "name": "python",
   "nbconvert_exporter": "python",
   "pygments_lexer": "ipython3",
   "version": "3.6.7"
  },
  "toc": {
   "base_numbering": 1,
   "nav_menu": {},
   "number_sections": true,
   "sideBar": true,
   "skip_h1_title": false,
   "title_cell": "Table of Contents",
   "title_sidebar": "Contents",
   "toc_cell": false,
   "toc_position": {},
   "toc_section_display": true,
   "toc_window_display": false
  }
 },
 "nbformat": 4,
 "nbformat_minor": 2
}
